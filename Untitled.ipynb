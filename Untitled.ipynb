{
 "cells": [
  {
   "cell_type": "code",
   "execution_count": null,
   "metadata": {},
   "outputs": [],
   "source": [
    "sonnet_words = open(\"sonnet_words.txt\", \"r\")\n",
    "my_words = [line.strip() for line in sonnet_words.readlines()]\n"
   ]
  },
  {
   "cell_type": "code",
   "execution_count": null,
   "metadata": {},
   "outputs": [],
   "source": [
    "dictionary_words = open(\"sowpods.txt\", \"r\")\n",
    "word_list = [line.strip() for line in dictionary_words.readlines()]\n",
    "\n",
    "#a dictionary is created\n",
    "word_dict = dict((line, 1) for line in word_list)"
   ]
  },
  {
   "cell_type": "code",
   "execution_count": null,
   "metadata": {},
   "outputs": [],
   "source": [
    "'''This programs checks to see what words in Shakespears Sonnet are not in the dicitionary. In other words,\n",
    "words that did not exists at the time or have become extinct'''\n",
    "\n",
    "#As part of this program, I wanted to determine how long it takes for the program to complete execution in the loop\n",
    "import time\n",
    "counter = 0\n",
    "#Start time recorded before the execution of the loop\n",
    "start_time = time.time()\n",
    "#for word in my_words:\n",
    "#Initially, the search was done in a list. Now I am searching in a dictinioray to determine the cost of using either\n",
    "for word in my_words:\n",
    "    if word not in word_dict:\n",
    "        print(word)\n",
    "        counter += 1\n",
    "#End time recorded at the end of the completion of the loop \n",
    "end_time = time.time()\n",
    "time_of_completion = end_time - start_time\n",
    "print(\"Total Number of words: %d\" % counter)\n",
    "print(\"Time taken to complete loop: %.1f Seconds\" % time_of_completion)"
   ]
  },
  {
   "cell_type": "code",
   "execution_count": null,
   "metadata": {},
   "outputs": [],
   "source": []
  },
  {
   "cell_type": "code",
   "execution_count": null,
   "metadata": {},
   "outputs": [],
   "source": []
  }
 ],
 "metadata": {
  "kernelspec": {
   "display_name": "Python 3",
   "language": "python",
   "name": "python3"
  },
  "language_info": {
   "codemirror_mode": {
    "name": "ipython",
    "version": 3
   },
   "file_extension": ".py",
   "mimetype": "text/x-python",
   "name": "python",
   "nbconvert_exporter": "python",
   "pygments_lexer": "ipython3",
   "version": "3.7.0"
  }
 },
 "nbformat": 4,
 "nbformat_minor": 2
}
